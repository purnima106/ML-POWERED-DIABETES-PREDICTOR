{
 "cells": [
  {
   "cell_type": "code",
   "execution_count": 1,
   "id": "3b037aba",
   "metadata": {
    "execution": {
     "iopub.execute_input": "2024-03-11T08:07:59.510834Z",
     "iopub.status.busy": "2024-03-11T08:07:59.510152Z",
     "iopub.status.idle": "2024-03-11T08:08:02.248466Z",
     "shell.execute_reply": "2024-03-11T08:08:02.247396Z"
    },
    "papermill": {
     "duration": 2.754536,
     "end_time": "2024-03-11T08:08:02.251147",
     "exception": false,
     "start_time": "2024-03-11T08:07:59.496611",
     "status": "completed"
    },
    "tags": []
   },
   "outputs": [],
   "source": [
    "import pandas as pd\n",
    "import numpy as np\n",
    "import matplotlib.pyplot as plt\n",
    "import seaborn as sns\n",
    "from sklearn.model_selection import train_test_split\n",
    "from sklearn.linear_model import LogisticRegression\n",
    "from sklearn.svm import SVC\n",
    "from sklearn.ensemble import RandomForestClassifier\n",
    "from sklearn.ensemble import GradientBoostingClassifier\n",
    "from sklearn.metrics import confusion_matrix\n",
    "from sklearn.metrics import accuracy_score,recall_score,f1_score\n",
    "from sklearn.metrics import classification_report\n",
    "#plt.style.use('fivethertyeight')\n",
    "import warnings\n",
    "warnings.filterwarnings('ignore')"
   ]
  },
  {
   "cell_type": "code",
   "execution_count": 2,
   "id": "145a96f5",
   "metadata": {
    "execution": {
     "iopub.execute_input": "2024-03-11T08:08:02.275665Z",
     "iopub.status.busy": "2024-03-11T08:08:02.275072Z",
     "iopub.status.idle": "2024-03-11T08:10:32.627448Z",
     "shell.execute_reply": "2024-03-11T08:10:32.626323Z"
    },
    "papermill": {
     "duration": 150.367542,
     "end_time": "2024-03-11T08:10:32.629997",
     "exception": false,
     "start_time": "2024-03-11T08:08:02.262455",
     "status": "completed"
    },
    "tags": []
   },
   "outputs": [
    {
     "name": "stdout",
     "output_type": "stream",
     "text": [
      "\u001b[33mWARNING: Retrying (Retry(total=4, connect=None, read=None, redirect=None, status=None)) after connection broken by 'NewConnectionError('<pip._vendor.urllib3.connection.HTTPSConnection object at 0x7c044d445000>: Failed to establish a new connection: [Errno -3] Temporary failure in name resolution')': /simple/imblearn/\u001b[0m\u001b[33m\r\n",
      "\u001b[0m\u001b[33mWARNING: Retrying (Retry(total=3, connect=None, read=None, redirect=None, status=None)) after connection broken by 'NewConnectionError('<pip._vendor.urllib3.connection.HTTPSConnection object at 0x7c044d445300>: Failed to establish a new connection: [Errno -3] Temporary failure in name resolution')': /simple/imblearn/\u001b[0m\u001b[33m\r\n",
      "\u001b[0m\u001b[33mWARNING: Retrying (Retry(total=2, connect=None, read=None, redirect=None, status=None)) after connection broken by 'NewConnectionError('<pip._vendor.urllib3.connection.HTTPSConnection object at 0x7c044d4455a0>: Failed to establish a new connection: [Errno -3] Temporary failure in name resolution')': /simple/imblearn/\u001b[0m\u001b[33m\r\n",
      "\u001b[0m\u001b[33mWARNING: Retrying (Retry(total=1, connect=None, read=None, redirect=None, status=None)) after connection broken by 'NewConnectionError('<pip._vendor.urllib3.connection.HTTPSConnection object at 0x7c044d445750>: Failed to establish a new connection: [Errno -3] Temporary failure in name resolution')': /simple/imblearn/\u001b[0m\u001b[33m\r\n",
      "\u001b[0m\u001b[33mWARNING: Retrying (Retry(total=0, connect=None, read=None, redirect=None, status=None)) after connection broken by 'NewConnectionError('<pip._vendor.urllib3.connection.HTTPSConnection object at 0x7c044d445900>: Failed to establish a new connection: [Errno -3] Temporary failure in name resolution')': /simple/imblearn/\u001b[0m\u001b[33m\r\n",
      "\u001b[0m\u001b[31mERROR: Could not find a version that satisfies the requirement imblearn (from versions: none)\u001b[0m\u001b[31m\r\n",
      "\u001b[0m\u001b[31mERROR: No matching distribution found for imblearn\u001b[0m\u001b[31m\r\n",
      "\u001b[0mNote: you may need to restart the kernel to use updated packages.\n"
     ]
    }
   ],
   "source": [
    "pip install imblearn"
   ]
  },
  {
   "cell_type": "code",
   "execution_count": 3,
   "id": "1edc9a06",
   "metadata": {
    "execution": {
     "iopub.execute_input": "2024-03-11T08:10:32.656595Z",
     "iopub.status.busy": "2024-03-11T08:10:32.656089Z",
     "iopub.status.idle": "2024-03-11T08:13:37.260765Z",
     "shell.execute_reply": "2024-03-11T08:13:37.259259Z"
    },
    "papermill": {
     "duration": 184.621234,
     "end_time": "2024-03-11T08:13:37.263807",
     "exception": false,
     "start_time": "2024-03-11T08:10:32.642573",
     "status": "completed"
    },
    "tags": []
   },
   "outputs": [
    {
     "name": "stdout",
     "output_type": "stream",
     "text": [
      "\u001b[33mWARNING: Retrying (Retry(total=4, connect=None, read=None, redirect=None, status=None)) after connection broken by 'NewConnectionError('<pip._vendor.urllib3.connection.HTTPSConnection object at 0x7be93ed25060>: Failed to establish a new connection: [Errno -3] Temporary failure in name resolution')': /simple/imblearn/\u001b[0m\u001b[33m\r\n",
      "\u001b[0m\u001b[33mWARNING: Retrying (Retry(total=3, connect=None, read=None, redirect=None, status=None)) after connection broken by 'NewConnectionError('<pip._vendor.urllib3.connection.HTTPSConnection object at 0x7be93ed25360>: Failed to establish a new connection: [Errno -3] Temporary failure in name resolution')': /simple/imblearn/\u001b[0m\u001b[33m\r\n",
      "\u001b[0m\u001b[33mWARNING: Retrying (Retry(total=2, connect=None, read=None, redirect=None, status=None)) after connection broken by 'NewConnectionError('<pip._vendor.urllib3.connection.HTTPSConnection object at 0x7be93ed25600>: Failed to establish a new connection: [Errno -3] Temporary failure in name resolution')': /simple/imblearn/\u001b[0m\u001b[33m\r\n",
      "\u001b[0m\u001b[33mWARNING: Retrying (Retry(total=1, connect=None, read=None, redirect=None, status=None)) after connection broken by 'NewConnectionError('<pip._vendor.urllib3.connection.HTTPSConnection object at 0x7be93ed257b0>: Failed to establish a new connection: [Errno -3] Temporary failure in name resolution')': /simple/imblearn/\u001b[0m\u001b[33m\r\n",
      "\u001b[0m\u001b[33mWARNING: Retrying (Retry(total=0, connect=None, read=None, redirect=None, status=None)) after connection broken by 'NewConnectionError('<pip._vendor.urllib3.connection.HTTPSConnection object at 0x7be93ed25960>: Failed to establish a new connection: [Errno -3] Temporary failure in name resolution')': /simple/imblearn/\u001b[0m\u001b[33m\r\n",
      "\u001b[0m\u001b[31mERROR: Could not find a version that satisfies the requirement imblearn (from versions: none)\u001b[0m\u001b[31m\r\n",
      "\u001b[0m\u001b[31mERROR: No matching distribution found for imblearn\u001b[0m\u001b[31m\r\n",
      "\u001b[0mRequirement already satisfied: imbalanced-learn in /opt/conda/lib/python3.10/site-packages (0.11.0)\r\n",
      "Requirement already satisfied: numpy>=1.17.3 in /opt/conda/lib/python3.10/site-packages (from imbalanced-learn) (1.24.3)\r\n",
      "Requirement already satisfied: scipy>=1.5.0 in /opt/conda/lib/python3.10/site-packages (from imbalanced-learn) (1.11.4)\r\n",
      "Requirement already satisfied: scikit-learn>=1.0.2 in /opt/conda/lib/python3.10/site-packages (from imbalanced-learn) (1.2.2)\r\n",
      "Requirement already satisfied: joblib>=1.1.1 in /opt/conda/lib/python3.10/site-packages (from imbalanced-learn) (1.3.2)\r\n",
      "Requirement already satisfied: threadpoolctl>=2.0.0 in /opt/conda/lib/python3.10/site-packages (from imbalanced-learn) (3.2.0)\r\n"
     ]
    }
   ],
   "source": [
    "!pip install imblearn\n",
    "!pip install imbalanced-learn"
   ]
  },
  {
   "cell_type": "code",
   "execution_count": 4,
   "id": "d97bca8a",
   "metadata": {
    "execution": {
     "iopub.execute_input": "2024-03-11T08:13:37.293670Z",
     "iopub.status.busy": "2024-03-11T08:13:37.292613Z",
     "iopub.status.idle": "2024-03-11T08:13:37.321921Z",
     "shell.execute_reply": "2024-03-11T08:13:37.321051Z"
    },
    "papermill": {
     "duration": 0.047433,
     "end_time": "2024-03-11T08:13:37.324366",
     "exception": false,
     "start_time": "2024-03-11T08:13:37.276933",
     "status": "completed"
    },
    "tags": []
   },
   "outputs": [],
   "source": [
    "df=pd.read_csv('/kaggle/input/diabetes-data-set/diabetes.csv')"
   ]
  },
  {
   "cell_type": "markdown",
   "id": "3fad3b1b",
   "metadata": {
    "papermill": {
     "duration": 0.012596,
     "end_time": "2024-03-11T08:13:37.349984",
     "exception": false,
     "start_time": "2024-03-11T08:13:37.337388",
     "status": "completed"
    },
    "tags": []
   },
   "source": [
    "# **Explore Data**"
   ]
  },
  {
   "cell_type": "code",
   "execution_count": 5,
   "id": "9c49d919",
   "metadata": {
    "execution": {
     "iopub.execute_input": "2024-03-11T08:13:37.379938Z",
     "iopub.status.busy": "2024-03-11T08:13:37.377117Z",
     "iopub.status.idle": "2024-03-11T08:13:37.407094Z",
     "shell.execute_reply": "2024-03-11T08:13:37.405994Z"
    },
    "papermill": {
     "duration": 0.04677,
     "end_time": "2024-03-11T08:13:37.409555",
     "exception": false,
     "start_time": "2024-03-11T08:13:37.362785",
     "status": "completed"
    },
    "tags": []
   },
   "outputs": [
    {
     "data": {
      "text/html": [
       "<div>\n",
       "<style scoped>\n",
       "    .dataframe tbody tr th:only-of-type {\n",
       "        vertical-align: middle;\n",
       "    }\n",
       "\n",
       "    .dataframe tbody tr th {\n",
       "        vertical-align: top;\n",
       "    }\n",
       "\n",
       "    .dataframe thead th {\n",
       "        text-align: right;\n",
       "    }\n",
       "</style>\n",
       "<table border=\"1\" class=\"dataframe\">\n",
       "  <thead>\n",
       "    <tr style=\"text-align: right;\">\n",
       "      <th></th>\n",
       "      <th>Pregnancies</th>\n",
       "      <th>Glucose</th>\n",
       "      <th>BloodPressure</th>\n",
       "      <th>SkinThickness</th>\n",
       "      <th>Insulin</th>\n",
       "      <th>BMI</th>\n",
       "      <th>DiabetesPedigreeFunction</th>\n",
       "      <th>Age</th>\n",
       "      <th>Outcome</th>\n",
       "    </tr>\n",
       "  </thead>\n",
       "  <tbody>\n",
       "    <tr>\n",
       "      <th>0</th>\n",
       "      <td>6</td>\n",
       "      <td>148</td>\n",
       "      <td>72</td>\n",
       "      <td>35</td>\n",
       "      <td>0</td>\n",
       "      <td>33.6</td>\n",
       "      <td>0.627</td>\n",
       "      <td>50</td>\n",
       "      <td>1</td>\n",
       "    </tr>\n",
       "    <tr>\n",
       "      <th>1</th>\n",
       "      <td>1</td>\n",
       "      <td>85</td>\n",
       "      <td>66</td>\n",
       "      <td>29</td>\n",
       "      <td>0</td>\n",
       "      <td>26.6</td>\n",
       "      <td>0.351</td>\n",
       "      <td>31</td>\n",
       "      <td>0</td>\n",
       "    </tr>\n",
       "    <tr>\n",
       "      <th>2</th>\n",
       "      <td>8</td>\n",
       "      <td>183</td>\n",
       "      <td>64</td>\n",
       "      <td>0</td>\n",
       "      <td>0</td>\n",
       "      <td>23.3</td>\n",
       "      <td>0.672</td>\n",
       "      <td>32</td>\n",
       "      <td>1</td>\n",
       "    </tr>\n",
       "    <tr>\n",
       "      <th>3</th>\n",
       "      <td>1</td>\n",
       "      <td>89</td>\n",
       "      <td>66</td>\n",
       "      <td>23</td>\n",
       "      <td>94</td>\n",
       "      <td>28.1</td>\n",
       "      <td>0.167</td>\n",
       "      <td>21</td>\n",
       "      <td>0</td>\n",
       "    </tr>\n",
       "    <tr>\n",
       "      <th>4</th>\n",
       "      <td>0</td>\n",
       "      <td>137</td>\n",
       "      <td>40</td>\n",
       "      <td>35</td>\n",
       "      <td>168</td>\n",
       "      <td>43.1</td>\n",
       "      <td>2.288</td>\n",
       "      <td>33</td>\n",
       "      <td>1</td>\n",
       "    </tr>\n",
       "  </tbody>\n",
       "</table>\n",
       "</div>"
      ],
      "text/plain": [
       "   Pregnancies  Glucose  BloodPressure  SkinThickness  Insulin   BMI  \\\n",
       "0            6      148             72             35        0  33.6   \n",
       "1            1       85             66             29        0  26.6   \n",
       "2            8      183             64              0        0  23.3   \n",
       "3            1       89             66             23       94  28.1   \n",
       "4            0      137             40             35      168  43.1   \n",
       "\n",
       "   DiabetesPedigreeFunction  Age  Outcome  \n",
       "0                     0.627   50        1  \n",
       "1                     0.351   31        0  \n",
       "2                     0.672   32        1  \n",
       "3                     0.167   21        0  \n",
       "4                     2.288   33        1  "
      ]
     },
     "execution_count": 5,
     "metadata": {},
     "output_type": "execute_result"
    }
   ],
   "source": [
    "df.head()"
   ]
  },
  {
   "cell_type": "code",
   "execution_count": 6,
   "id": "5c1f8266",
   "metadata": {
    "execution": {
     "iopub.execute_input": "2024-03-11T08:13:37.437256Z",
     "iopub.status.busy": "2024-03-11T08:13:37.436846Z",
     "iopub.status.idle": "2024-03-11T08:13:37.465114Z",
     "shell.execute_reply": "2024-03-11T08:13:37.463914Z"
    },
    "papermill": {
     "duration": 0.045187,
     "end_time": "2024-03-11T08:13:37.467746",
     "exception": false,
     "start_time": "2024-03-11T08:13:37.422559",
     "status": "completed"
    },
    "tags": []
   },
   "outputs": [
    {
     "name": "stdout",
     "output_type": "stream",
     "text": [
      "<class 'pandas.core.frame.DataFrame'>\n",
      "RangeIndex: 768 entries, 0 to 767\n",
      "Data columns (total 9 columns):\n",
      " #   Column                    Non-Null Count  Dtype  \n",
      "---  ------                    --------------  -----  \n",
      " 0   Pregnancies               768 non-null    int64  \n",
      " 1   Glucose                   768 non-null    int64  \n",
      " 2   BloodPressure             768 non-null    int64  \n",
      " 3   SkinThickness             768 non-null    int64  \n",
      " 4   Insulin                   768 non-null    int64  \n",
      " 5   BMI                       768 non-null    float64\n",
      " 6   DiabetesPedigreeFunction  768 non-null    float64\n",
      " 7   Age                       768 non-null    int64  \n",
      " 8   Outcome                   768 non-null    int64  \n",
      "dtypes: float64(2), int64(7)\n",
      "memory usage: 54.1 KB\n"
     ]
    }
   ],
   "source": [
    "df.info()"
   ]
  },
  {
   "cell_type": "code",
   "execution_count": 7,
   "id": "a50e63ef",
   "metadata": {
    "execution": {
     "iopub.execute_input": "2024-03-11T08:13:37.496290Z",
     "iopub.status.busy": "2024-03-11T08:13:37.495877Z",
     "iopub.status.idle": "2024-03-11T08:13:37.535671Z",
     "shell.execute_reply": "2024-03-11T08:13:37.534792Z"
    },
    "papermill": {
     "duration": 0.056675,
     "end_time": "2024-03-11T08:13:37.537806",
     "exception": false,
     "start_time": "2024-03-11T08:13:37.481131",
     "status": "completed"
    },
    "tags": []
   },
   "outputs": [
    {
     "data": {
      "text/html": [
       "<div>\n",
       "<style scoped>\n",
       "    .dataframe tbody tr th:only-of-type {\n",
       "        vertical-align: middle;\n",
       "    }\n",
       "\n",
       "    .dataframe tbody tr th {\n",
       "        vertical-align: top;\n",
       "    }\n",
       "\n",
       "    .dataframe thead th {\n",
       "        text-align: right;\n",
       "    }\n",
       "</style>\n",
       "<table border=\"1\" class=\"dataframe\">\n",
       "  <thead>\n",
       "    <tr style=\"text-align: right;\">\n",
       "      <th></th>\n",
       "      <th>Pregnancies</th>\n",
       "      <th>Glucose</th>\n",
       "      <th>BloodPressure</th>\n",
       "      <th>SkinThickness</th>\n",
       "      <th>Insulin</th>\n",
       "      <th>BMI</th>\n",
       "      <th>DiabetesPedigreeFunction</th>\n",
       "      <th>Age</th>\n",
       "      <th>Outcome</th>\n",
       "    </tr>\n",
       "  </thead>\n",
       "  <tbody>\n",
       "    <tr>\n",
       "      <th>count</th>\n",
       "      <td>768.000000</td>\n",
       "      <td>768.000000</td>\n",
       "      <td>768.000000</td>\n",
       "      <td>768.000000</td>\n",
       "      <td>768.000000</td>\n",
       "      <td>768.000000</td>\n",
       "      <td>768.000000</td>\n",
       "      <td>768.000000</td>\n",
       "      <td>768.000000</td>\n",
       "    </tr>\n",
       "    <tr>\n",
       "      <th>mean</th>\n",
       "      <td>3.845052</td>\n",
       "      <td>120.894531</td>\n",
       "      <td>69.105469</td>\n",
       "      <td>20.536458</td>\n",
       "      <td>79.799479</td>\n",
       "      <td>31.992578</td>\n",
       "      <td>0.471876</td>\n",
       "      <td>33.240885</td>\n",
       "      <td>0.348958</td>\n",
       "    </tr>\n",
       "    <tr>\n",
       "      <th>std</th>\n",
       "      <td>3.369578</td>\n",
       "      <td>31.972618</td>\n",
       "      <td>19.355807</td>\n",
       "      <td>15.952218</td>\n",
       "      <td>115.244002</td>\n",
       "      <td>7.884160</td>\n",
       "      <td>0.331329</td>\n",
       "      <td>11.760232</td>\n",
       "      <td>0.476951</td>\n",
       "    </tr>\n",
       "    <tr>\n",
       "      <th>min</th>\n",
       "      <td>0.000000</td>\n",
       "      <td>0.000000</td>\n",
       "      <td>0.000000</td>\n",
       "      <td>0.000000</td>\n",
       "      <td>0.000000</td>\n",
       "      <td>0.000000</td>\n",
       "      <td>0.078000</td>\n",
       "      <td>21.000000</td>\n",
       "      <td>0.000000</td>\n",
       "    </tr>\n",
       "    <tr>\n",
       "      <th>25%</th>\n",
       "      <td>1.000000</td>\n",
       "      <td>99.000000</td>\n",
       "      <td>62.000000</td>\n",
       "      <td>0.000000</td>\n",
       "      <td>0.000000</td>\n",
       "      <td>27.300000</td>\n",
       "      <td>0.243750</td>\n",
       "      <td>24.000000</td>\n",
       "      <td>0.000000</td>\n",
       "    </tr>\n",
       "    <tr>\n",
       "      <th>50%</th>\n",
       "      <td>3.000000</td>\n",
       "      <td>117.000000</td>\n",
       "      <td>72.000000</td>\n",
       "      <td>23.000000</td>\n",
       "      <td>30.500000</td>\n",
       "      <td>32.000000</td>\n",
       "      <td>0.372500</td>\n",
       "      <td>29.000000</td>\n",
       "      <td>0.000000</td>\n",
       "    </tr>\n",
       "    <tr>\n",
       "      <th>75%</th>\n",
       "      <td>6.000000</td>\n",
       "      <td>140.250000</td>\n",
       "      <td>80.000000</td>\n",
       "      <td>32.000000</td>\n",
       "      <td>127.250000</td>\n",
       "      <td>36.600000</td>\n",
       "      <td>0.626250</td>\n",
       "      <td>41.000000</td>\n",
       "      <td>1.000000</td>\n",
       "    </tr>\n",
       "    <tr>\n",
       "      <th>max</th>\n",
       "      <td>17.000000</td>\n",
       "      <td>199.000000</td>\n",
       "      <td>122.000000</td>\n",
       "      <td>99.000000</td>\n",
       "      <td>846.000000</td>\n",
       "      <td>67.100000</td>\n",
       "      <td>2.420000</td>\n",
       "      <td>81.000000</td>\n",
       "      <td>1.000000</td>\n",
       "    </tr>\n",
       "  </tbody>\n",
       "</table>\n",
       "</div>"
      ],
      "text/plain": [
       "       Pregnancies     Glucose  BloodPressure  SkinThickness     Insulin  \\\n",
       "count   768.000000  768.000000     768.000000     768.000000  768.000000   \n",
       "mean      3.845052  120.894531      69.105469      20.536458   79.799479   \n",
       "std       3.369578   31.972618      19.355807      15.952218  115.244002   \n",
       "min       0.000000    0.000000       0.000000       0.000000    0.000000   \n",
       "25%       1.000000   99.000000      62.000000       0.000000    0.000000   \n",
       "50%       3.000000  117.000000      72.000000      23.000000   30.500000   \n",
       "75%       6.000000  140.250000      80.000000      32.000000  127.250000   \n",
       "max      17.000000  199.000000     122.000000      99.000000  846.000000   \n",
       "\n",
       "              BMI  DiabetesPedigreeFunction         Age     Outcome  \n",
       "count  768.000000                768.000000  768.000000  768.000000  \n",
       "mean    31.992578                  0.471876   33.240885    0.348958  \n",
       "std      7.884160                  0.331329   11.760232    0.476951  \n",
       "min      0.000000                  0.078000   21.000000    0.000000  \n",
       "25%     27.300000                  0.243750   24.000000    0.000000  \n",
       "50%     32.000000                  0.372500   29.000000    0.000000  \n",
       "75%     36.600000                  0.626250   41.000000    1.000000  \n",
       "max     67.100000                  2.420000   81.000000    1.000000  "
      ]
     },
     "execution_count": 7,
     "metadata": {},
     "output_type": "execute_result"
    }
   ],
   "source": [
    "df.describe()"
   ]
  },
  {
   "cell_type": "code",
   "execution_count": 8,
   "id": "71fa03af",
   "metadata": {
    "execution": {
     "iopub.execute_input": "2024-03-11T08:13:37.567375Z",
     "iopub.status.busy": "2024-03-11T08:13:37.566692Z",
     "iopub.status.idle": "2024-03-11T08:13:37.576205Z",
     "shell.execute_reply": "2024-03-11T08:13:37.575411Z"
    },
    "papermill": {
     "duration": 0.026824,
     "end_time": "2024-03-11T08:13:37.578383",
     "exception": false,
     "start_time": "2024-03-11T08:13:37.551559",
     "status": "completed"
    },
    "tags": []
   },
   "outputs": [
    {
     "data": {
      "text/plain": [
       "0"
      ]
     },
     "execution_count": 8,
     "metadata": {},
     "output_type": "execute_result"
    }
   ],
   "source": [
    "df.duplicated().sum()"
   ]
  },
  {
   "cell_type": "markdown",
   "id": "b52e2f51",
   "metadata": {
    "papermill": {
     "duration": 0.013378,
     "end_time": "2024-03-11T08:13:37.605480",
     "exception": false,
     "start_time": "2024-03-11T08:13:37.592102",
     "status": "completed"
    },
    "tags": []
   },
   "source": [
    "# **Analysis**"
   ]
  },
  {
   "cell_type": "code",
   "execution_count": 9,
   "id": "caec48cf",
   "metadata": {
    "execution": {
     "iopub.execute_input": "2024-03-11T08:13:37.634428Z",
     "iopub.status.busy": "2024-03-11T08:13:37.634000Z",
     "iopub.status.idle": "2024-03-11T08:13:37.655353Z",
     "shell.execute_reply": "2024-03-11T08:13:37.654496Z"
    },
    "papermill": {
     "duration": 0.038283,
     "end_time": "2024-03-11T08:13:37.657334",
     "exception": false,
     "start_time": "2024-03-11T08:13:37.619051",
     "status": "completed"
    },
    "tags": []
   },
   "outputs": [
    {
     "data": {
      "text/html": [
       "<div>\n",
       "<style scoped>\n",
       "    .dataframe tbody tr th:only-of-type {\n",
       "        vertical-align: middle;\n",
       "    }\n",
       "\n",
       "    .dataframe tbody tr th {\n",
       "        vertical-align: top;\n",
       "    }\n",
       "\n",
       "    .dataframe thead th {\n",
       "        text-align: right;\n",
       "    }\n",
       "</style>\n",
       "<table border=\"1\" class=\"dataframe\">\n",
       "  <thead>\n",
       "    <tr style=\"text-align: right;\">\n",
       "      <th></th>\n",
       "      <th>Pregnancies</th>\n",
       "      <th>Glucose</th>\n",
       "      <th>BloodPressure</th>\n",
       "      <th>SkinThickness</th>\n",
       "      <th>Insulin</th>\n",
       "      <th>BMI</th>\n",
       "      <th>DiabetesPedigreeFunction</th>\n",
       "      <th>Age</th>\n",
       "      <th>Outcome</th>\n",
       "    </tr>\n",
       "  </thead>\n",
       "  <tbody>\n",
       "    <tr>\n",
       "      <th>Pregnancies</th>\n",
       "      <td>1.000000</td>\n",
       "      <td>0.129459</td>\n",
       "      <td>0.141282</td>\n",
       "      <td>-0.081672</td>\n",
       "      <td>-0.073535</td>\n",
       "      <td>0.017683</td>\n",
       "      <td>-0.033523</td>\n",
       "      <td>0.544341</td>\n",
       "      <td>0.221898</td>\n",
       "    </tr>\n",
       "    <tr>\n",
       "      <th>Glucose</th>\n",
       "      <td>0.129459</td>\n",
       "      <td>1.000000</td>\n",
       "      <td>0.152590</td>\n",
       "      <td>0.057328</td>\n",
       "      <td>0.331357</td>\n",
       "      <td>0.221071</td>\n",
       "      <td>0.137337</td>\n",
       "      <td>0.263514</td>\n",
       "      <td>0.466581</td>\n",
       "    </tr>\n",
       "    <tr>\n",
       "      <th>BloodPressure</th>\n",
       "      <td>0.141282</td>\n",
       "      <td>0.152590</td>\n",
       "      <td>1.000000</td>\n",
       "      <td>0.207371</td>\n",
       "      <td>0.088933</td>\n",
       "      <td>0.281805</td>\n",
       "      <td>0.041265</td>\n",
       "      <td>0.239528</td>\n",
       "      <td>0.065068</td>\n",
       "    </tr>\n",
       "    <tr>\n",
       "      <th>SkinThickness</th>\n",
       "      <td>-0.081672</td>\n",
       "      <td>0.057328</td>\n",
       "      <td>0.207371</td>\n",
       "      <td>1.000000</td>\n",
       "      <td>0.436783</td>\n",
       "      <td>0.392573</td>\n",
       "      <td>0.183928</td>\n",
       "      <td>-0.113970</td>\n",
       "      <td>0.074752</td>\n",
       "    </tr>\n",
       "    <tr>\n",
       "      <th>Insulin</th>\n",
       "      <td>-0.073535</td>\n",
       "      <td>0.331357</td>\n",
       "      <td>0.088933</td>\n",
       "      <td>0.436783</td>\n",
       "      <td>1.000000</td>\n",
       "      <td>0.197859</td>\n",
       "      <td>0.185071</td>\n",
       "      <td>-0.042163</td>\n",
       "      <td>0.130548</td>\n",
       "    </tr>\n",
       "    <tr>\n",
       "      <th>BMI</th>\n",
       "      <td>0.017683</td>\n",
       "      <td>0.221071</td>\n",
       "      <td>0.281805</td>\n",
       "      <td>0.392573</td>\n",
       "      <td>0.197859</td>\n",
       "      <td>1.000000</td>\n",
       "      <td>0.140647</td>\n",
       "      <td>0.036242</td>\n",
       "      <td>0.292695</td>\n",
       "    </tr>\n",
       "    <tr>\n",
       "      <th>DiabetesPedigreeFunction</th>\n",
       "      <td>-0.033523</td>\n",
       "      <td>0.137337</td>\n",
       "      <td>0.041265</td>\n",
       "      <td>0.183928</td>\n",
       "      <td>0.185071</td>\n",
       "      <td>0.140647</td>\n",
       "      <td>1.000000</td>\n",
       "      <td>0.033561</td>\n",
       "      <td>0.173844</td>\n",
       "    </tr>\n",
       "    <tr>\n",
       "      <th>Age</th>\n",
       "      <td>0.544341</td>\n",
       "      <td>0.263514</td>\n",
       "      <td>0.239528</td>\n",
       "      <td>-0.113970</td>\n",
       "      <td>-0.042163</td>\n",
       "      <td>0.036242</td>\n",
       "      <td>0.033561</td>\n",
       "      <td>1.000000</td>\n",
       "      <td>0.238356</td>\n",
       "    </tr>\n",
       "    <tr>\n",
       "      <th>Outcome</th>\n",
       "      <td>0.221898</td>\n",
       "      <td>0.466581</td>\n",
       "      <td>0.065068</td>\n",
       "      <td>0.074752</td>\n",
       "      <td>0.130548</td>\n",
       "      <td>0.292695</td>\n",
       "      <td>0.173844</td>\n",
       "      <td>0.238356</td>\n",
       "      <td>1.000000</td>\n",
       "    </tr>\n",
       "  </tbody>\n",
       "</table>\n",
       "</div>"
      ],
      "text/plain": [
       "                          Pregnancies   Glucose  BloodPressure  SkinThickness  \\\n",
       "Pregnancies                  1.000000  0.129459       0.141282      -0.081672   \n",
       "Glucose                      0.129459  1.000000       0.152590       0.057328   \n",
       "BloodPressure                0.141282  0.152590       1.000000       0.207371   \n",
       "SkinThickness               -0.081672  0.057328       0.207371       1.000000   \n",
       "Insulin                     -0.073535  0.331357       0.088933       0.436783   \n",
       "BMI                          0.017683  0.221071       0.281805       0.392573   \n",
       "DiabetesPedigreeFunction    -0.033523  0.137337       0.041265       0.183928   \n",
       "Age                          0.544341  0.263514       0.239528      -0.113970   \n",
       "Outcome                      0.221898  0.466581       0.065068       0.074752   \n",
       "\n",
       "                           Insulin       BMI  DiabetesPedigreeFunction  \\\n",
       "Pregnancies              -0.073535  0.017683                 -0.033523   \n",
       "Glucose                   0.331357  0.221071                  0.137337   \n",
       "BloodPressure             0.088933  0.281805                  0.041265   \n",
       "SkinThickness             0.436783  0.392573                  0.183928   \n",
       "Insulin                   1.000000  0.197859                  0.185071   \n",
       "BMI                       0.197859  1.000000                  0.140647   \n",
       "DiabetesPedigreeFunction  0.185071  0.140647                  1.000000   \n",
       "Age                      -0.042163  0.036242                  0.033561   \n",
       "Outcome                   0.130548  0.292695                  0.173844   \n",
       "\n",
       "                               Age   Outcome  \n",
       "Pregnancies               0.544341  0.221898  \n",
       "Glucose                   0.263514  0.466581  \n",
       "BloodPressure             0.239528  0.065068  \n",
       "SkinThickness            -0.113970  0.074752  \n",
       "Insulin                  -0.042163  0.130548  \n",
       "BMI                       0.036242  0.292695  \n",
       "DiabetesPedigreeFunction  0.033561  0.173844  \n",
       "Age                       1.000000  0.238356  \n",
       "Outcome                   0.238356  1.000000  "
      ]
     },
     "execution_count": 9,
     "metadata": {},
     "output_type": "execute_result"
    }
   ],
   "source": [
    "df.corr()"
   ]
  },
  {
   "cell_type": "code",
   "execution_count": 10,
   "id": "bec127bb",
   "metadata": {
    "execution": {
     "iopub.execute_input": "2024-03-11T08:13:37.687379Z",
     "iopub.status.busy": "2024-03-11T08:13:37.686662Z",
     "iopub.status.idle": "2024-03-11T08:13:38.375180Z",
     "shell.execute_reply": "2024-03-11T08:13:38.374191Z"
    },
    "papermill": {
     "duration": 0.706361,
     "end_time": "2024-03-11T08:13:38.377813",
     "exception": false,
     "start_time": "2024-03-11T08:13:37.671452",
     "status": "completed"
    },
    "tags": []
   },
   "outputs": [
    {
     "data": {
      "text/plain": [
       "<Axes: >"
      ]
     },
     "execution_count": 10,
     "metadata": {},
     "output_type": "execute_result"
    },
    {
     "data": {
      "image/png": "[encoded data removed]",
      "text/plain": [
       "<Figure size 640x480 with 2 Axes>"
      ]
     },
     "metadata": {},
     "output_type": "display_data"
    }
   ],
   "source": [
    "sns.heatmap(df.corr(),annot=True,fmt='0.1f',linewidth=.5)"
   ]
  },
  {
   "cell_type": "code",
   "execution_count": 11,
   "id": "bf3d20db",
   "metadata": {
    "execution": {
     "iopub.execute_input": "2024-03-11T08:13:38.411291Z",
     "iopub.status.busy": "2024-03-11T08:13:38.410906Z",
     "iopub.status.idle": "2024-03-11T08:13:38.634714Z",
     "shell.execute_reply": "2024-03-11T08:13:38.633884Z"
    },
    "papermill": {
     "duration": 0.242705,
     "end_time": "2024-03-11T08:13:38.636775",
     "exception": false,
     "start_time": "2024-03-11T08:13:38.394070",
     "status": "completed"
    },
    "tags": []
   },
   "outputs": [
    {
     "data": {
      "text/plain": [
       "<Axes: xlabel='Outcome', ylabel='count'>"
      ]
     },
     "execution_count": 11,
     "metadata": {},
     "output_type": "execute_result"
    },
    {
     "data": {
      "image/png": "[encoded data removed]",
      "text/plain": [
       "<Figure size 640x480 with 1 Axes>"
      ]
     },
     "metadata": {},
     "output_type": "display_data"
    }
   ],
   "source": [
    "sns.countplot(x='Outcome',data=df,palette=['g','r'])"
   ]
  },
  {
   "cell_type": "code",
   "execution_count": 12,
   "id": "26586d60",
   "metadata": {
    "execution": {
     "iopub.execute_input": "2024-03-11T08:13:38.670882Z",
     "iopub.status.busy": "2024-03-11T08:13:38.670275Z",
     "iopub.status.idle": "2024-03-11T08:13:38.678854Z",
     "shell.execute_reply": "2024-03-11T08:13:38.677761Z"
    },
    "papermill": {
     "duration": 0.028424,
     "end_time": "2024-03-11T08:13:38.681301",
     "exception": false,
     "start_time": "2024-03-11T08:13:38.652877",
     "status": "completed"
    },
    "tags": []
   },
   "outputs": [
    {
     "data": {
      "text/plain": [
       "((500, 9), (268, 9))"
      ]
     },
     "execution_count": 12,
     "metadata": {},
     "output_type": "execute_result"
    }
   ],
   "source": [
    "maxi=df[df['Outcome']==0]\n",
    "mini=df[df['Outcome']==1]\n",
    "maxi.shape , mini.shape"
   ]
  },
  {
   "cell_type": "code",
   "execution_count": 13,
   "id": "a0334d93",
   "metadata": {
    "execution": {
     "iopub.execute_input": "2024-03-11T08:13:38.715364Z",
     "iopub.status.busy": "2024-03-11T08:13:38.714595Z",
     "iopub.status.idle": "2024-03-11T08:13:38.721991Z",
     "shell.execute_reply": "2024-03-11T08:13:38.720936Z"
    },
    "papermill": {
     "duration": 0.026749,
     "end_time": "2024-03-11T08:13:38.724182",
     "exception": false,
     "start_time": "2024-03-11T08:13:38.697433",
     "status": "completed"
    },
    "tags": []
   },
   "outputs": [
    {
     "data": {
      "text/plain": [
       "0.3489583333333333"
      ]
     },
     "execution_count": 13,
     "metadata": {},
     "output_type": "execute_result"
    }
   ],
   "source": [
    "268/(268+500) # data is not balance"
   ]
  },
  {
   "cell_type": "code",
   "execution_count": 14,
   "id": "a7731eb2",
   "metadata": {
    "execution": {
     "iopub.execute_input": "2024-03-11T08:13:38.819715Z",
     "iopub.status.busy": "2024-03-11T08:13:38.819300Z",
     "iopub.status.idle": "2024-03-11T08:13:39.683713Z",
     "shell.execute_reply": "2024-03-11T08:13:39.682827Z"
    },
    "papermill": {
     "duration": 0.88475,
     "end_time": "2024-03-11T08:13:39.685882",
     "exception": false,
     "start_time": "2024-03-11T08:13:38.801132",
     "status": "completed"
    },
    "tags": []
   },
   "outputs": [
    {
     "data": {
      "image/png": "[encoded data removed]",
      "text/plain": [
       "<Figure size 2000x500 with 3 Axes>"
      ]
     },
     "metadata": {},
     "output_type": "display_data"
    }
   ],
   "source": [
    "plt.figure(figsize=(20,5))\n",
    "\n",
    "plt.subplot(1,3,1)\n",
    "plt.title('Counter plot')\n",
    "sns.countplot(x = 'Pregnancies',data=df)\n",
    "\n",
    "plt.subplot(1,3,2)\n",
    "plt.title('Distribution plot')\n",
    "sns.distplot(df[\"Pregnancies\"])\n",
    "\n",
    "plt.subplot(1,3,3)\n",
    "plt.title('Box plot')\n",
    "sns.boxplot(y=df[\"Pregnancies\"])\n",
    "\n",
    "plt.show()"
   ]
  },
  {
   "cell_type": "code",
   "execution_count": 15,
   "id": "785e4d10",
   "metadata": {
    "execution": {
     "iopub.execute_input": "2024-03-11T08:13:39.722343Z",
     "iopub.status.busy": "2024-03-11T08:13:39.721718Z",
     "iopub.status.idle": "2024-03-11T08:13:39.987484Z",
     "shell.execute_reply": "2024-03-11T08:13:39.986287Z"
    },
    "papermill": {
     "duration": 0.286959,
     "end_time": "2024-03-11T08:13:39.989979",
     "exception": false,
     "start_time": "2024-03-11T08:13:39.703020",
     "status": "completed"
    },
    "tags": []
   },
   "outputs": [
    {
     "data": {
      "text/plain": [
       "<Axes: title={'center': 'Age'}>"
      ]
     },
     "execution_count": 15,
     "metadata": {},
     "output_type": "execute_result"
    },
    {
     "data": {
      "image/png": "[encoded data removed]",
      "text/plain": [
       "<Figure size 640x480 with 1 Axes>"
      ]
     },
     "metadata": {},
     "output_type": "display_data"
    }
   ],
   "source": [
    "plt.title('Age')\n",
    "sns.boxplot(df.Age)"
   ]
  },
  {
   "cell_type": "markdown",
   "id": "1317b4c0",
   "metadata": {
    "papermill": {
     "duration": 0.017522,
     "end_time": "2024-03-11T08:13:40.025537",
     "exception": false,
     "start_time": "2024-03-11T08:13:40.008015",
     "status": "completed"
    },
    "tags": []
   },
   "source": [
    "# **Create Model**"
   ]
  },
  {
   "cell_type": "code",
   "execution_count": 16,
   "id": "7001b37e",
   "metadata": {
    "execution": {
     "iopub.execute_input": "2024-03-11T08:13:40.063013Z",
     "iopub.status.busy": "2024-03-11T08:13:40.062582Z",
     "iopub.status.idle": "2024-03-11T08:13:40.069258Z",
     "shell.execute_reply": "2024-03-11T08:13:40.068225Z"
    },
    "papermill": {
     "duration": 0.028184,
     "end_time": "2024-03-11T08:13:40.071422",
     "exception": false,
     "start_time": "2024-03-11T08:13:40.043238",
     "status": "completed"
    },
    "tags": []
   },
   "outputs": [],
   "source": [
    "x=df.drop('Outcome',axis=1)\n",
    "y=df['Outcome']"
   ]
  },
  {
   "cell_type": "code",
   "execution_count": 17,
   "id": "06818444",
   "metadata": {
    "execution": {
     "iopub.execute_input": "2024-03-11T08:13:40.108842Z",
     "iopub.status.busy": "2024-03-11T08:13:40.108413Z",
     "iopub.status.idle": "2024-03-11T08:13:40.272774Z",
     "shell.execute_reply": "2024-03-11T08:13:40.271816Z"
    },
    "papermill": {
     "duration": 0.186203,
     "end_time": "2024-03-11T08:13:40.275346",
     "exception": false,
     "start_time": "2024-03-11T08:13:40.089143",
     "status": "completed"
    },
    "tags": []
   },
   "outputs": [],
   "source": [
    "from imblearn.over_sampling import RandomOverSampler\n",
    "from imblearn.under_sampling import RandomUnderSampler"
   ]
  },
  {
   "cell_type": "code",
   "execution_count": 18,
   "id": "a9e5b218",
   "metadata": {
    "execution": {
     "iopub.execute_input": "2024-03-11T08:13:40.313402Z",
     "iopub.status.busy": "2024-03-11T08:13:40.312744Z",
     "iopub.status.idle": "2024-03-11T08:13:40.325534Z",
     "shell.execute_reply": "2024-03-11T08:13:40.324678Z"
    },
    "papermill": {
     "duration": 0.034272,
     "end_time": "2024-03-11T08:13:40.327784",
     "exception": false,
     "start_time": "2024-03-11T08:13:40.293512",
     "status": "completed"
    },
    "tags": []
   },
   "outputs": [],
   "source": [
    "rms=RandomOverSampler(random_state=41)\n",
    "x_res,y_res=rms.fit_resample(x,y)\n"
   ]
  },
  {
   "cell_type": "code",
   "execution_count": 19,
   "id": "db72e8bd",
   "metadata": {
    "execution": {
     "iopub.execute_input": "2024-03-11T08:13:40.365705Z",
     "iopub.status.busy": "2024-03-11T08:13:40.364637Z",
     "iopub.status.idle": "2024-03-11T08:13:40.369576Z",
     "shell.execute_reply": "2024-03-11T08:13:40.368607Z"
    },
    "papermill": {
     "duration": 0.027829,
     "end_time": "2024-03-11T08:13:40.373285",
     "exception": false,
     "start_time": "2024-03-11T08:13:40.345456",
     "status": "completed"
    },
    "tags": []
   },
   "outputs": [],
   "source": [
    "from collections import Counter"
   ]
  },
  {
   "cell_type": "code",
   "execution_count": 20,
   "id": "c67b077c",
   "metadata": {
    "execution": {
     "iopub.execute_input": "2024-03-11T08:13:40.412223Z",
     "iopub.status.busy": "2024-03-11T08:13:40.411771Z",
     "iopub.status.idle": "2024-03-11T08:13:40.418375Z",
     "shell.execute_reply": "2024-03-11T08:13:40.417346Z"
    },
    "papermill": {
     "duration": 0.028211,
     "end_time": "2024-03-11T08:13:40.421013",
     "exception": false,
     "start_time": "2024-03-11T08:13:40.392802",
     "status": "completed"
    },
    "tags": []
   },
   "outputs": [
    {
     "name": "stdout",
     "output_type": "stream",
     "text": [
      "old data set shapCounter({0: 500, 1: 268})\n",
      "old data set shapCounter({1: 500, 0: 500})\n"
     ]
    }
   ],
   "source": [
    "print('old data set shap{}'.format(Counter(y)))\n",
    "print('old data set shap{}'.format(Counter(y_res)))"
   ]
  },
  {
   "cell_type": "code",
   "execution_count": 21,
   "id": "f1f4cc53",
   "metadata": {
    "execution": {
     "iopub.execute_input": "2024-03-11T08:13:40.458744Z",
     "iopub.status.busy": "2024-03-11T08:13:40.457896Z",
     "iopub.status.idle": "2024-03-11T08:13:40.465214Z",
     "shell.execute_reply": "2024-03-11T08:13:40.464078Z"
    },
    "papermill": {
     "duration": 0.028794,
     "end_time": "2024-03-11T08:13:40.467610",
     "exception": false,
     "start_time": "2024-03-11T08:13:40.438816",
     "status": "completed"
    },
    "tags": []
   },
   "outputs": [],
   "source": [
    "x_train,x_test,y_train,y_test=train_test_split(x,y,test_size=.2)\n"
   ]
  },
  {
   "cell_type": "code",
   "execution_count": 22,
   "id": "2ec9db15",
   "metadata": {
    "execution": {
     "iopub.execute_input": "2024-03-11T08:13:40.504559Z",
     "iopub.status.busy": "2024-03-11T08:13:40.504132Z",
     "iopub.status.idle": "2024-03-11T08:13:40.510048Z",
     "shell.execute_reply": "2024-03-11T08:13:40.508942Z"
    },
    "papermill": {
     "duration": 0.027372,
     "end_time": "2024-03-11T08:13:40.512494",
     "exception": false,
     "start_time": "2024-03-11T08:13:40.485122",
     "status": "completed"
    },
    "tags": []
   },
   "outputs": [],
   "source": [
    "lo=LogisticRegression()\n",
    "s=SVC()\n",
    "rm=RandomForestClassifier(class_weight='balanced',n_estimators=100)\n",
    "gb=GradientBoostingClassifier(n_estimators=1000)\n"
   ]
  },
  {
   "cell_type": "code",
   "execution_count": 23,
   "id": "4d4680bd",
   "metadata": {
    "execution": {
     "iopub.execute_input": "2024-03-11T08:13:40.549460Z",
     "iopub.status.busy": "2024-03-11T08:13:40.549044Z",
     "iopub.status.idle": "2024-03-11T08:13:40.553476Z",
     "shell.execute_reply": "2024-03-11T08:13:40.552706Z"
    },
    "papermill": {
     "duration": 0.02557,
     "end_time": "2024-03-11T08:13:40.555568",
     "exception": false,
     "start_time": "2024-03-11T08:13:40.529998",
     "status": "completed"
    },
    "tags": []
   },
   "outputs": [],
   "source": [
    "columns=['LogisticRegression','SVC','RandomForestClassifier','GradientBoostingClassifier']\n",
    "r1=[]\n",
    "r2=[]\n",
    "r3=[]"
   ]
  },
  {
   "cell_type": "code",
   "execution_count": 24,
   "id": "a699f6e2",
   "metadata": {
    "execution": {
     "iopub.execute_input": "2024-03-11T08:13:40.593040Z",
     "iopub.status.busy": "2024-03-11T08:13:40.592429Z",
     "iopub.status.idle": "2024-03-11T08:13:40.599092Z",
     "shell.execute_reply": "2024-03-11T08:13:40.598349Z"
    },
    "papermill": {
     "duration": 0.028246,
     "end_time": "2024-03-11T08:13:40.601541",
     "exception": false,
     "start_time": "2024-03-11T08:13:40.573295",
     "status": "completed"
    },
    "tags": []
   },
   "outputs": [],
   "source": [
    "def cal(model):\n",
    "    print(model)\n",
    "    model.fit(x_train,y_train)\n",
    "    pre=model.predict(x_test)\n",
    "    acc=accuracy_score(pre,y_test)\n",
    "    rs=recall_score(pre,y_test)\n",
    "    f=f1_score(pre,y_test)\n",
    "    r1.append(acc)\n",
    "    r2.append(rs)\n",
    "    r3.append(f)\n",
    "    cm=confusion_matrix(pre,y_test)\n",
    "    print('Accuracy_score is : ',acc,'\\nRecall_score is :',rs,'\\nf1_score is ',f,'\\nConfusion_matrix is : ',cm)\n",
    "    sns.heatmap(confusion_matrix(pre,y_test),annot=True)\n",
    "    \n"
   ]
  },
  {
   "cell_type": "code",
   "execution_count": 25,
   "id": "01699878",
   "metadata": {
    "execution": {
     "iopub.execute_input": "2024-03-11T08:13:40.639350Z",
     "iopub.status.busy": "2024-03-11T08:13:40.638939Z",
     "iopub.status.idle": "2024-03-11T08:13:40.980956Z",
     "shell.execute_reply": "2024-03-11T08:13:40.980107Z"
    },
    "papermill": {
     "duration": 0.363579,
     "end_time": "2024-03-11T08:13:40.983252",
     "exception": false,
     "start_time": "2024-03-11T08:13:40.619673",
     "status": "completed"
    },
    "tags": []
   },
   "outputs": [
    {
     "name": "stdout",
     "output_type": "stream",
     "text": [
      "LogisticRegression()\n",
      "Accuracy_score is :  0.7597402597402597 \n",
      "Recall_score is : 0.7551020408163265 \n",
      "f1_score is  0.6666666666666666 \n",
      "Confusion_matrix is :  [[80 25]\n",
      " [12 37]]\n"
     ]
    },
    {
     "data": {
      "image/png": "[encoded data removed]",
      "text/plain": [
       "<Figure size 640x480 with 2 Axes>"
      ]
     },
     "metadata": {},
     "output_type": "display_data"
    }
   ],
   "source": [
    "cal(lo)"
   ]
  },
  {
   "cell_type": "code",
   "execution_count": 26,
   "id": "2e807cf7",
   "metadata": {
    "execution": {
     "iopub.execute_input": "2024-03-11T08:13:41.021113Z",
     "iopub.status.busy": "2024-03-11T08:13:41.020718Z",
     "iopub.status.idle": "2024-03-11T08:13:41.349274Z",
     "shell.execute_reply": "2024-03-11T08:13:41.348094Z"
    },
    "papermill": {
     "duration": 0.350311,
     "end_time": "2024-03-11T08:13:41.351697",
     "exception": false,
     "start_time": "2024-03-11T08:13:41.001386",
     "status": "completed"
    },
    "tags": []
   },
   "outputs": [
    {
     "name": "stdout",
     "output_type": "stream",
     "text": [
      "SVC()\n",
      "Accuracy_score is :  0.6753246753246753 \n",
      "Recall_score is : 0.6363636363636364 \n",
      "f1_score is  0.5283018867924528 \n",
      "Confusion_matrix is :  [[76 34]\n",
      " [16 28]]\n"
     ]
    },
    {
     "data": {
      "image/png": "[encoded data removed]",
      "text/plain": [
       "<Figure size 640x480 with 2 Axes>"
      ]
     },
     "metadata": {},
     "output_type": "display_data"
    }
   ],
   "source": [
    "cal(s)"
   ]
  },
  {
   "cell_type": "code",
   "execution_count": 27,
   "id": "55c37cff",
   "metadata": {
    "execution": {
     "iopub.execute_input": "2024-03-11T08:13:41.390581Z",
     "iopub.status.busy": "2024-03-11T08:13:41.389878Z",
     "iopub.status.idle": "2024-03-11T08:13:42.094780Z",
     "shell.execute_reply": "2024-03-11T08:13:42.093597Z"
    },
    "papermill": {
     "duration": 0.727284,
     "end_time": "2024-03-11T08:13:42.097558",
     "exception": false,
     "start_time": "2024-03-11T08:13:41.370274",
     "status": "completed"
    },
    "tags": []
   },
   "outputs": [
    {
     "name": "stdout",
     "output_type": "stream",
     "text": [
      "RandomForestClassifier(class_weight='balanced')\n",
      "Accuracy_score is :  0.7532467532467533 \n",
      "Recall_score is : 0.7222222222222222 \n",
      "f1_score is  0.6724137931034483 \n",
      "Confusion_matrix is :  [[77 23]\n",
      " [15 39]]\n"
     ]
    },
    {
     "data": {
      "image/png": "[encoded data removed]",
      "text/plain": [
       "<Figure size 640x480 with 2 Axes>"
      ]
     },
     "metadata": {},
     "output_type": "display_data"
    }
   ],
   "source": [
    "cal(rm)"
   ]
  },
  {
   "cell_type": "code",
   "execution_count": 28,
   "id": "0babfcb4",
   "metadata": {
    "execution": {
     "iopub.execute_input": "2024-03-11T08:13:42.140535Z",
     "iopub.status.busy": "2024-03-11T08:13:42.140090Z",
     "iopub.status.idle": "2024-03-11T08:13:44.360693Z",
     "shell.execute_reply": "2024-03-11T08:13:44.359807Z"
    },
    "papermill": {
     "duration": 2.243262,
     "end_time": "2024-03-11T08:13:44.362904",
     "exception": false,
     "start_time": "2024-03-11T08:13:42.119642",
     "status": "completed"
    },
    "tags": []
   },
   "outputs": [
    {
     "name": "stdout",
     "output_type": "stream",
     "text": [
      "GradientBoostingClassifier(n_estimators=1000)\n",
      "Accuracy_score is :  0.7077922077922078 \n",
      "Recall_score is : 0.6545454545454545 \n",
      "f1_score is  0.6153846153846153 \n",
      "Confusion_matrix is :  [[73 26]\n",
      " [19 36]]\n"
     ]
    },
    {
     "data": {
      "image/png": "[encoded data removed]",
      "text/plain": [
       "<Figure size 640x480 with 2 Axes>"
      ]
     },
     "metadata": {},
     "output_type": "display_data"
    }
   ],
   "source": [
    "cal(gb)"
   ]
  },
  {
   "cell_type": "code",
   "execution_count": 29,
   "id": "974d7c49",
   "metadata": {
    "execution": {
     "iopub.execute_input": "2024-03-11T08:13:44.405702Z",
     "iopub.status.busy": "2024-03-11T08:13:44.405299Z",
     "iopub.status.idle": "2024-03-11T08:13:44.412094Z",
     "shell.execute_reply": "2024-03-11T08:13:44.411020Z"
    },
    "papermill": {
     "duration": 0.031514,
     "end_time": "2024-03-11T08:13:44.414443",
     "exception": false,
     "start_time": "2024-03-11T08:13:44.382929",
     "status": "completed"
    },
    "tags": []
   },
   "outputs": [
    {
     "data": {
      "text/plain": [
       "[0.7597402597402597,\n",
       " 0.6753246753246753,\n",
       " 0.7532467532467533,\n",
       " 0.7077922077922078]"
      ]
     },
     "execution_count": 29,
     "metadata": {},
     "output_type": "execute_result"
    }
   ],
   "source": [
    "r1"
   ]
  },
  {
   "cell_type": "code",
   "execution_count": 30,
   "id": "e37bf5ac",
   "metadata": {
    "execution": {
     "iopub.execute_input": "2024-03-11T08:13:44.456047Z",
     "iopub.status.busy": "2024-03-11T08:13:44.455583Z",
     "iopub.status.idle": "2024-03-11T08:13:44.462547Z",
     "shell.execute_reply": "2024-03-11T08:13:44.461464Z"
    },
    "papermill": {
     "duration": 0.030144,
     "end_time": "2024-03-11T08:13:44.464714",
     "exception": false,
     "start_time": "2024-03-11T08:13:44.434570",
     "status": "completed"
    },
    "tags": []
   },
   "outputs": [
    {
     "data": {
      "text/plain": [
       "[0.7551020408163265,\n",
       " 0.6363636363636364,\n",
       " 0.7222222222222222,\n",
       " 0.6545454545454545]"
      ]
     },
     "execution_count": 30,
     "metadata": {},
     "output_type": "execute_result"
    }
   ],
   "source": [
    "r2"
   ]
  },
  {
   "cell_type": "code",
   "execution_count": 31,
   "id": "4d55f310",
   "metadata": {
    "execution": {
     "iopub.execute_input": "2024-03-11T08:13:44.506676Z",
     "iopub.status.busy": "2024-03-11T08:13:44.505702Z",
     "iopub.status.idle": "2024-03-11T08:13:44.512543Z",
     "shell.execute_reply": "2024-03-11T08:13:44.511473Z"
    },
    "papermill": {
     "duration": 0.030226,
     "end_time": "2024-03-11T08:13:44.514830",
     "exception": false,
     "start_time": "2024-03-11T08:13:44.484604",
     "status": "completed"
    },
    "tags": []
   },
   "outputs": [
    {
     "data": {
      "text/plain": [
       "[0.6666666666666666,\n",
       " 0.5283018867924528,\n",
       " 0.6724137931034483,\n",
       " 0.6153846153846153]"
      ]
     },
     "execution_count": 31,
     "metadata": {},
     "output_type": "execute_result"
    }
   ],
   "source": [
    "r3"
   ]
  },
  {
   "cell_type": "code",
   "execution_count": 32,
   "id": "957cf4bf",
   "metadata": {
    "execution": {
     "iopub.execute_input": "2024-03-11T08:13:44.556417Z",
     "iopub.status.busy": "2024-03-11T08:13:44.555942Z",
     "iopub.status.idle": "2024-03-11T08:13:44.561695Z",
     "shell.execute_reply": "2024-03-11T08:13:44.560620Z"
    },
    "papermill": {
     "duration": 0.029532,
     "end_time": "2024-03-11T08:13:44.564177",
     "exception": false,
     "start_time": "2024-03-11T08:13:44.534645",
     "status": "completed"
    },
    "tags": []
   },
   "outputs": [],
   "source": [
    "res=pd.DataFrame({'Algrithm':columns,'Accuracies':r1,'Recall':r2,'FScore':r3})"
   ]
  },
  {
   "cell_type": "code",
   "execution_count": 33,
   "id": "88b9d891",
   "metadata": {
    "execution": {
     "iopub.execute_input": "2024-03-11T08:13:44.607553Z",
     "iopub.status.busy": "2024-03-11T08:13:44.606766Z",
     "iopub.status.idle": "2024-03-11T08:13:44.833343Z",
     "shell.execute_reply": "2024-03-11T08:13:44.832281Z"
    },
    "papermill": {
     "duration": 0.251935,
     "end_time": "2024-03-11T08:13:44.836799",
     "exception": false,
     "start_time": "2024-03-11T08:13:44.584864",
     "status": "completed"
    },
    "tags": []
   },
   "outputs": [
    {
     "data": {
      "image/png": "[encoded data removed]",
      "text/plain": [
       "<Figure size 1500x500 with 1 Axes>"
      ]
     },
     "metadata": {},
     "output_type": "display_data"
    }
   ],
   "source": [
    "fig,ax=plt.subplots(figsize=(15,5))\n",
    "plt.plot(res.Algrithm,r1, label='Accuracy')\n",
    "plt.plot(res.Algrithm,r2, label='Recall')\n",
    "plt.plot(res.Algrithm,r3, label='F1Score')\n",
    "plt.legend()\n",
    "plt.show()"
   ]
  },
  {
   "cell_type": "code",
   "execution_count": null,
   "id": "de8c9405",
   "metadata": {
    "papermill": {
     "duration": 0.020672,
     "end_time": "2024-03-11T08:13:44.878458",
     "exception": false,
     "start_time": "2024-03-11T08:13:44.857786",
     "status": "completed"
    },
    "tags": []
   },
   "outputs": [],
   "source": []
  }
 ],
 "metadata": {
  "kaggle": {
   "accelerator": "none",
   "dataSources": [
    {
     "datasetId": 818300,
     "sourceId": 1400440,
     "sourceType": "datasetVersion"
    }
   ],
   "dockerImageVersionId": 30626,
   "isGpuEnabled": false,
   "isInternetEnabled": false,
   "language": "python",
   "sourceType": "notebook"
  },
  "kernelspec": {
   "display_name": "Python 3",
   "language": "python",
   "name": "python3"
  },
  "language_info": {
   "codemirror_mode": {
    "name": "ipython",
    "version": 3
   },
   "file_extension": ".py",
   "mimetype": "text/x-python",
   "name": "python",
   "nbconvert_exporter": "python",
   "pygments_lexer": "ipython3",
   "version": "3.10.12"
  },
  "papermill": {
   "default_parameters": {},
   "duration": 350.158426,
   "end_time": "2024-03-11T08:13:45.521046",
   "environment_variables": {},
   "exception": null,
   "input_path": "__notebook__.ipynb",
   "output_path": "__notebook__.ipynb",
   "parameters": {},
   "start_time": "2024-03-11T08:07:55.362620",
   "version": "2.4.0"
  }
 },
 "nbformat": 4,
 "nbformat_minor": 5
}
